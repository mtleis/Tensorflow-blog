{
  "nbformat": 4,
  "nbformat_minor": 0,
  "metadata": {
    "colab": {
      "name": "Copy of TF01_Introduction.ipynb",
      "provenance": [],
      "include_colab_link": true
    },
    "kernelspec": {
      "name": "python3",
      "display_name": "Python 3"
    }
  },
  "cells": [
    {
      "cell_type": "markdown",
      "metadata": {
        "id": "view-in-github",
        "colab_type": "text"
      },
      "source": [
        "<a href=\"https://colab.research.google.com/github/mtleis/Tensorflow-blog/blob/master/TF01_Introduction.ipynb\" target=\"_parent\"><img src=\"https://colab.research.google.com/assets/colab-badge.svg\" alt=\"Open In Colab\"/></a>"
      ]
    },
    {
      "cell_type": "markdown",
      "metadata": {
        "id": "DvQLmwwlNnpd",
        "colab_type": "text"
      },
      "source": [
        "\n",
        "# Background\n",
        "---\n",
        "Machine Learning is used nowadays to answer complex questions and to build intelligent systems. Scientists around the world are feeding such systems with huge amounts of data. Since those scientists are going deep into their data, they refer to the learning process as **Deep Learning**. Example applications of Deep learning today, is to understand the content of images, natural language, and speech.<br>\n",
        "Deep Learning methods also go by the name of deep neural networks. We feed millions of data instances into a network of neurons. Our neurons network is called a 'model'. Such model learns to recognize patterns from the raw data instances input. The representations of data is constructed automatically in deep learning and that is what distinguishes it out from conventional machine learning methods.<br>\n"
      ]
    },
    {
      "cell_type": "code",
      "metadata": {
        "id": "yYEjqF6xb3rt",
        "colab_type": "code",
        "colab": {}
      },
      "source": [
        ""
      ],
      "execution_count": 0,
      "outputs": []
    },
    {
      "cell_type": "markdown",
      "metadata": {
        "id": "GQIljNz6bUF_",
        "colab_type": "text"
      },
      "source": [
        "# Introdcution\n",
        "--- \n",
        "Google's deep learning framework is called **TensorFlow**. It is the second generation system at Google. Tensorflow succeeds the DistBelief project that was initialized in 2011. TensorFlow was released in November 2015 and it became the leading system for doing deep learning.<br>\n",
        "One interesting aspect of TensorFlow is that users can download pre-trained models. Such deep neural nets are aleady trained and users can apply it to their data.<br>\n",
        "By now you may be curious what does the name TensorFlow mean. In fact, Tensors are the standard way of representing data in deep learning. Tensors are multi-dimensional arrays. For example an RGB image has Tensors, i.e. 3 dimensional arrays, with each pixel having three values corresponding to red, green and blue components.<br>\n",
        "We understood what Tensors are. But what does 'Flow' means. Actually, computation in TensorFlow is approached as a dataflow graph. In such graphs, nodes represent operations and edges represent data (tensors). So tensors are 'flowing' around the system. From there came the name **TensorFlow**. <br>\n",
        "The core of TensorFlow is in C++, and it has two primary high-level frontend languages as interfaces for expressing and executing the computation graphs. The most developed and widely adopted interface language is Python. The C++ frontend provides a low-level API useful for embedded systems and similar applicaitons.<br>\n",
        "TensorFlow comes with TesnorBoard. Tensorboard is a simple visualization tools that runs in the browser.<br>\n",
        "One strength of TensorFlow is its modularity. It comes with abstraction libraries offering high-level access. We can think of TensorFlow with respect to other frameworks as we think about 'Object-Oriented' programming with respect to functional programming. <br>\n",
        "In the rest of this article we will learn all basic things about Tensorflow. First we discuss how to Install Tensorflow, then we follow the traditions by creating a 'Hello World!' program. Finally we build a simple neural network composed of one layer and one neuron."
      ]
    },
    {
      "cell_type": "code",
      "metadata": {
        "id": "oEDM7VJxiDRD",
        "colab_type": "code",
        "cellView": "form",
        "outputId": "dfc8dc06-b6a3-477b-dafd-3cd8f0e826b7",
        "colab": {
          "resources": {
            "http://localhost:8080/nbextensions/google.colab/files.js": {
              "data": "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",
              "ok": true,
              "headers": [
                [
                  "content-type",
                  "application/javascript"
                ]
              ],
              "status": 200,
              "status_text": "OK"
            }
          },
          "base_uri": "https://localhost:8080/",
          "height": 295
        }
      },
      "source": [
        "#@title Tensorflow logo\n",
        "# !wget https://www.google.com/url?sa=i&rct=j&q=&esrc=s&source=imgres&cd=&cad=rja&uact=8&ved=2ahUKEwjcqMyAtprlAhUGaFAKHUXiA48QjRx6BAgBEAQ&url=https%3A%2F%2Fwww.tensorflow.org%2F&psig=AOvVaw3MfBArzEbELhwASJG1qKVi&ust=1571096854025673\n",
        "\n",
        "from google.colab import files\n",
        "uploaded = files.upload()\n",
        "#for fn in uploaded.keys():\n",
        "   #print('User uploaded file \"{name}\" with length {length} bytes'.format(\n",
        "   #   name=fn, length=len(uploaded[fn])))\n",
        "  \n",
        "import cv2\n",
        "import numpy as np\n",
        "from matplotlib import pyplot as plt\n",
        "\n",
        "img = cv2.imread(\"tf_logo_social.png\")\n",
        "img_cvt=cv2.cvtColor(img, cv2.COLOR_BGR2RGB)\n",
        "plt.imshow(img_cvt)\n",
        "plt.show()"
      ],
      "execution_count": 0,
      "outputs": [
        {
          "output_type": "display_data",
          "data": {
            "text/html": [
              "\n",
              "     <input type=\"file\" id=\"files-a2ca3db1-5a99-47e5-961f-ce2bfb2275a9\" name=\"files[]\" multiple disabled />\n",
              "     <output id=\"result-a2ca3db1-5a99-47e5-961f-ce2bfb2275a9\">\n",
              "      Upload widget is only available when the cell has been executed in the\n",
              "      current browser session. Please rerun this cell to enable.\n",
              "      </output>\n",
              "      <script src=\"/nbextensions/google.colab/files.js\"></script> "
            ],
            "text/plain": [
              "<IPython.core.display.HTML object>"
            ]
          },
          "metadata": {
            "tags": []
          }
        },
        {
          "output_type": "stream",
          "text": [
            "Saving tf_logo_social.png to tf_logo_social (2).png\n"
          ],
          "name": "stdout"
        },
        {
          "output_type": "display_data",
          "data": {
            "image/png": "[encoded data removed]",
            "text/plain": [
              "<Figure size 432x288 with 1 Axes>"
            ]
          },
          "metadata": {
            "tags": []
          }
        }
      ]
    },
    {
      "cell_type": "markdown",
      "metadata": {
        "id": "sbg-mJs5N6Yr",
        "colab_type": "text"
      },
      "source": [
        "# Installing Tensorflow\n",
        "---\n"
      ]
    },
    {
      "cell_type": "markdown",
      "metadata": {
        "id": "00PE4Qj9KlMg",
        "colab_type": "text"
      },
      "source": [
        "The simple and easy way to install is by using the pip installation. The drawback with pip installation is that specific versions of some packages will be installed to satisfy dependencies. <br>"
      ]
    },
    {
      "cell_type": "code",
      "metadata": {
        "id": "QgYoBX78KmBL",
        "colab_type": "code",
        "outputId": "4a36c4ff-2806-421d-8769-e25fe66cbd36",
        "colab": {
          "base_uri": "https://localhost:8080/",
          "height": 402
        }
      },
      "source": [
        "pip install tensorflow"
      ],
      "execution_count": 0,
      "outputs": [
        {
          "output_type": "stream",
          "text": [
            "Requirement already satisfied: tensorflow in /usr/local/lib/python3.6/dist-packages (1.15.0rc3)\n",
            "Requirement already satisfied: termcolor>=1.1.0 in /usr/local/lib/python3.6/dist-packages (from tensorflow) (1.1.0)\n",
            "Requirement already satisfied: wheel>=0.26 in /usr/local/lib/python3.6/dist-packages (from tensorflow) (0.33.6)\n",
            "Requirement already satisfied: numpy<2.0,>=1.16.0 in /usr/local/lib/python3.6/dist-packages (from tensorflow) (1.16.5)\n",
            "Requirement already satisfied: keras-preprocessing>=1.0.5 in /usr/local/lib/python3.6/dist-packages (from tensorflow) (1.1.0)\n",
            "Requirement already satisfied: tensorflow-estimator==1.15.1 in /usr/local/lib/python3.6/dist-packages (from tensorflow) (1.15.1)\n",
            "Requirement already satisfied: gast==0.2.2 in /usr/local/lib/python3.6/dist-packages (from tensorflow) (0.2.2)\n",
            "Requirement already satisfied: keras-applications>=1.0.8 in /usr/local/lib/python3.6/dist-packages (from tensorflow) (1.0.8)\n",
            "Requirement already satisfied: opt-einsum>=2.3.2 in /usr/local/lib/python3.6/dist-packages (from tensorflow) (3.1.0)\n",
            "Requirement already satisfied: astor>=0.6.0 in /usr/local/lib/python3.6/dist-packages (from tensorflow) (0.8.0)\n",
            "Requirement already satisfied: google-pasta>=0.1.6 in /usr/local/lib/python3.6/dist-packages (from tensorflow) (0.1.7)\n",
            "Requirement already satisfied: absl-py>=0.7.0 in /usr/local/lib/python3.6/dist-packages (from tensorflow) (0.8.0)\n",
            "Requirement already satisfied: six>=1.10.0 in /usr/local/lib/python3.6/dist-packages (from tensorflow) (1.12.0)\n",
            "Requirement already satisfied: tensorboard<1.16.0,>=1.15.0 in /usr/local/lib/python3.6/dist-packages (from tensorflow) (1.15.0)\n",
            "Requirement already satisfied: protobuf>=3.6.1 in /usr/local/lib/python3.6/dist-packages (from tensorflow) (3.7.1)\n",
            "Requirement already satisfied: grpcio>=1.8.6 in /usr/local/lib/python3.6/dist-packages (from tensorflow) (1.15.0)\n",
            "Requirement already satisfied: wrapt>=1.11.1 in /usr/local/lib/python3.6/dist-packages (from tensorflow) (1.11.2)\n",
            "Requirement already satisfied: h5py in /usr/local/lib/python3.6/dist-packages (from keras-applications>=1.0.8->tensorflow) (2.8.0)\n",
            "Requirement already satisfied: setuptools>=41.0.0 in /usr/local/lib/python3.6/dist-packages (from tensorboard<1.16.0,>=1.15.0->tensorflow) (41.2.0)\n",
            "Requirement already satisfied: werkzeug>=0.11.15 in /usr/local/lib/python3.6/dist-packages (from tensorboard<1.16.0,>=1.15.0->tensorflow) (0.16.0)\n",
            "Requirement already satisfied: markdown>=2.6.8 in /usr/local/lib/python3.6/dist-packages (from tensorboard<1.16.0,>=1.15.0->tensorflow) (3.1.1)\n"
          ],
          "name": "stdout"
        }
      ]
    },
    {
      "cell_type": "markdown",
      "metadata": {
        "id": "7bl9UFQALfin",
        "colab_type": "text"
      },
      "source": [
        "One way to avoid installing using pip, is to install $virtualenv$."
      ]
    },
    {
      "cell_type": "code",
      "metadata": {
        "id": "tAWxDjWiL0TD",
        "colab_type": "code",
        "outputId": "df2ee9f4-8187-4e3d-d25c-641b581bbfd9",
        "colab": {
          "base_uri": "https://localhost:8080/",
          "height": 124
        }
      },
      "source": [
        "pip install virtualenv"
      ],
      "execution_count": 0,
      "outputs": [
        {
          "output_type": "stream",
          "text": [
            "Collecting virtualenv\n",
            "\u001b[?25l  Downloading https://files.pythonhosted.org/packages/8b/12/8d4f45b8962b03ac9efefe5ed5053f6b29334d83e438b4fe379d21c0cb8e/virtualenv-16.7.5-py2.py3-none-any.whl (3.3MB)\n",
            "\u001b[K     |████████████████████████████████| 3.3MB 4.9MB/s \n",
            "\u001b[?25hInstalling collected packages: virtualenv\n",
            "Successfully installed virtualenv-16.7.5\n"
          ],
          "name": "stdout"
        }
      ]
    },
    {
      "cell_type": "markdown",
      "metadata": {
        "id": "Gw17mJKgMK8X",
        "colab_type": "text"
      },
      "source": [
        "In order to install TensorFlow using virtualenv, we need first to create the virtual environment. For example we can create a local folder 'envs' to install all of our virtualenvs. Then we will use $virtualenv$ command a create a new virtual environment named $tensorflow$.\n",
        "\n",
        "```\n",
        "cd ~\n",
        "mkdir ~/envs\n",
        "virtualenv ~/envs/tesnsorflow\n",
        "```"
      ]
    },
    {
      "cell_type": "code",
      "metadata": {
        "id": "hauYHugmMwLX",
        "colab_type": "code",
        "outputId": "d504a538-e2a7-4321-fbb8-2260f62e1bde",
        "colab": {
          "base_uri": "https://localhost:8080/",
          "height": 121
        }
      },
      "source": [
        "# creating a virtual environment in google co-lab\n",
        "!source /root/envs; \n",
        "!virtualenv /root/envs/tensorflow\n"
      ],
      "execution_count": 0,
      "outputs": [
        {
          "output_type": "stream",
          "text": [
            "/bin/bash: /root/envs: No such file or directory\n",
            "Using base prefix '/usr'\n",
            "New python executable in /root/envs/tensorflow/bin/python3\n",
            "Also creating executable in /root/envs/tensorflow/bin/python\n",
            "Installing setuptools, pip, wheel...\n",
            "done.\n"
          ],
          "name": "stdout"
        }
      ]
    },
    {
      "cell_type": "markdown",
      "metadata": {
        "id": "NdgCi_Kvwtde",
        "colab_type": "text"
      },
      "source": [
        "After creating the virtual environment we need to activate it by running the $activate$ command by calling it from inside the **bin** directory.\n",
        "\n",
        "```\n",
        "source /root/envs/tensorflow/bin/activate\n",
        "```\n",
        "\n",
        "You will notice that the prompt is now proceeded by **(tensorflow)**:\n",
        "```\n",
        "(tensorflow)$\n",
        "```\n",
        "\n",
        "You can now install tensorflow inside the virtualenv:\n",
        "```\n",
        "(tensorflow)$ pip install tensorflow\n",
        "```\n",
        "\n",
        "Finally you can deactivate the virtual environment by running the **deactivate** command:\n",
        "```\n",
        "(tensorflow)$ deactivate\n",
        "```\n"
      ]
    },
    {
      "cell_type": "code",
      "metadata": {
        "id": "MNEG0vOuxPh6",
        "colab_type": "code",
        "colab": {}
      },
      "source": [
        "!source /root/envs/tensorflow/bin/activate\n"
      ],
      "execution_count": 0,
      "outputs": []
    },
    {
      "cell_type": "markdown",
      "metadata": {
        "id": "iXHU0Thi5JLC",
        "colab_type": "text"
      },
      "source": [
        "If you have CUDA-8 or you would like to benefit from the gpu capabilities of google colab, you can install the gpu version of tensorflow:"
      ]
    },
    {
      "cell_type": "code",
      "metadata": {
        "id": "sOsQ1xAMxe_w",
        "colab_type": "code",
        "outputId": "05e977ab-993e-446b-b162-877ecf8463eb",
        "colab": {
          "base_uri": "https://localhost:8080/",
          "height": 680
        }
      },
      "source": [
        "pip install tensorflow-gpu"
      ],
      "execution_count": 0,
      "outputs": [
        {
          "output_type": "stream",
          "text": [
            "Collecting tensorflow-gpu\n",
            "\u001b[?25l  Downloading https://files.pythonhosted.org/packages/25/44/47f0722aea081697143fbcf5d2aa60d1aee4aaacb5869aee2b568974777b/tensorflow_gpu-2.0.0-cp36-cp36m-manylinux2010_x86_64.whl (380.8MB)\n",
            "\u001b[K     |████████████████████████████████| 380.8MB 74kB/s \n",
            "\u001b[?25hRequirement already satisfied: six>=1.10.0 in /usr/local/lib/python3.6/dist-packages (from tensorflow-gpu) (1.12.0)\n",
            "Requirement already satisfied: protobuf>=3.6.1 in /usr/local/lib/python3.6/dist-packages (from tensorflow-gpu) (3.7.1)\n",
            "Requirement already satisfied: keras-applications>=1.0.8 in /usr/local/lib/python3.6/dist-packages (from tensorflow-gpu) (1.0.8)\n",
            "Requirement already satisfied: astor>=0.6.0 in /usr/local/lib/python3.6/dist-packages (from tensorflow-gpu) (0.8.0)\n",
            "Requirement already satisfied: keras-preprocessing>=1.0.5 in /usr/local/lib/python3.6/dist-packages (from tensorflow-gpu) (1.1.0)\n",
            "Collecting tensorboard<2.1.0,>=2.0.0 (from tensorflow-gpu)\n",
            "\u001b[?25l  Downloading https://files.pythonhosted.org/packages/9b/a6/e8ffa4e2ddb216449d34cfcb825ebb38206bee5c4553d69e7bc8bc2c5d64/tensorboard-2.0.0-py3-none-any.whl (3.8MB)\n",
            "\u001b[K     |████████████████████████████████| 3.8MB 33.2MB/s \n",
            "\u001b[?25hRequirement already satisfied: wrapt>=1.11.1 in /usr/local/lib/python3.6/dist-packages (from tensorflow-gpu) (1.11.2)\n",
            "Requirement already satisfied: grpcio>=1.8.6 in /usr/local/lib/python3.6/dist-packages (from tensorflow-gpu) (1.15.0)\n",
            "Requirement already satisfied: wheel>=0.26 in /usr/local/lib/python3.6/dist-packages (from tensorflow-gpu) (0.33.6)\n",
            "Collecting tensorflow-estimator<2.1.0,>=2.0.0 (from tensorflow-gpu)\n",
            "\u001b[?25l  Downloading https://files.pythonhosted.org/packages/95/00/5e6cdf86190a70d7382d320b2b04e4ff0f8191a37d90a422a2f8ff0705bb/tensorflow_estimator-2.0.0-py2.py3-none-any.whl (449kB)\n",
            "\u001b[K     |████████████████████████████████| 450kB 44.8MB/s \n",
            "\u001b[?25hRequirement already satisfied: termcolor>=1.1.0 in /usr/local/lib/python3.6/dist-packages (from tensorflow-gpu) (1.1.0)\n",
            "Requirement already satisfied: absl-py>=0.7.0 in /usr/local/lib/python3.6/dist-packages (from tensorflow-gpu) (0.8.0)\n",
            "Requirement already satisfied: google-pasta>=0.1.6 in /usr/local/lib/python3.6/dist-packages (from tensorflow-gpu) (0.1.7)\n",
            "Requirement already satisfied: numpy<2.0,>=1.16.0 in /usr/local/lib/python3.6/dist-packages (from tensorflow-gpu) (1.16.5)\n",
            "Requirement already satisfied: gast==0.2.2 in /usr/local/lib/python3.6/dist-packages (from tensorflow-gpu) (0.2.2)\n",
            "Requirement already satisfied: opt-einsum>=2.3.2 in /usr/local/lib/python3.6/dist-packages (from tensorflow-gpu) (3.1.0)\n",
            "Requirement already satisfied: setuptools in /usr/local/lib/python3.6/dist-packages (from protobuf>=3.6.1->tensorflow-gpu) (41.2.0)\n",
            "Requirement already satisfied: h5py in /usr/local/lib/python3.6/dist-packages (from keras-applications>=1.0.8->tensorflow-gpu) (2.8.0)\n",
            "Requirement already satisfied: markdown>=2.6.8 in /usr/local/lib/python3.6/dist-packages (from tensorboard<2.1.0,>=2.0.0->tensorflow-gpu) (3.1.1)\n",
            "Requirement already satisfied: werkzeug>=0.11.15 in /usr/local/lib/python3.6/dist-packages (from tensorboard<2.1.0,>=2.0.0->tensorflow-gpu) (0.16.0)\n",
            "\u001b[31mERROR: tensorflow 1.15.0rc3 has requirement tensorboard<1.16.0,>=1.15.0, but you'll have tensorboard 2.0.0 which is incompatible.\u001b[0m\n",
            "\u001b[31mERROR: tensorflow 1.15.0rc3 has requirement tensorflow-estimator==1.15.1, but you'll have tensorflow-estimator 2.0.0 which is incompatible.\u001b[0m\n",
            "Installing collected packages: tensorboard, tensorflow-estimator, tensorflow-gpu\n",
            "  Found existing installation: tensorboard 1.15.0\n",
            "    Uninstalling tensorboard-1.15.0:\n",
            "      Successfully uninstalled tensorboard-1.15.0\n",
            "  Found existing installation: tensorflow-estimator 1.15.1\n",
            "    Uninstalling tensorflow-estimator-1.15.1:\n",
            "      Successfully uninstalled tensorflow-estimator-1.15.1\n",
            "Successfully installed tensorboard-2.0.0 tensorflow-estimator-2.0.0 tensorflow-gpu-2.0.0\n"
          ],
          "name": "stdout"
        }
      ]
    },
    {
      "cell_type": "markdown",
      "metadata": {
        "id": "jceQ89ILN6m2",
        "colab_type": "text"
      },
      "source": [
        "# Hello World\n",
        "---\n"
      ]
    },
    {
      "cell_type": "markdown",
      "metadata": {
        "id": "tI6urR7n5wLC",
        "colab_type": "text"
      },
      "source": [
        "Now that we have learned how to install tensorflow locally or on Google Co-lab, we will follow the traditions and start with a 'Hello World' program!<br>\n",
        "Of course you might need to check whether tensorflow is ready and what version is installed:\n",
        "```\n",
        "import tensorflow as tf\n",
        "print(tf.__version__)\n",
        "```"
      ]
    },
    {
      "cell_type": "code",
      "metadata": {
        "id": "8xkTZwLodGle",
        "colab_type": "code",
        "outputId": "18405990-579b-4874-b5ff-4d3b68de62bf",
        "colab": {
          "base_uri": "https://localhost:8080/",
          "height": 34
        }
      },
      "source": [
        "import tensorflow as tf\n",
        "print(tf.__version__)"
      ],
      "execution_count": 0,
      "outputs": [
        {
          "output_type": "stream",
          "text": [
            "1.15.0-rc3\n"
          ],
          "name": "stdout"
        }
      ]
    },
    {
      "cell_type": "code",
      "metadata": {
        "id": "5oykl40hdXbb",
        "colab_type": "code",
        "outputId": "9265d24a-e383-4a54-81d9-b078a2838122",
        "colab": {
          "base_uri": "https://localhost:8080/",
          "height": 34
        }
      },
      "source": [
        "import tensorflow as tf\n",
        "# define two constants and combine them\n",
        "h = tf.constant(\"Hello\")\n",
        "w = tf.constant(\"World!\")\n",
        "hw = h + w\n",
        "\n",
        "# Session object acts as an interface to Tensorflow\n",
        "with tf.Session() as sess:\n",
        "  # This actually does the summation of the two strings\n",
        "  ans = sess.run(hw)\n",
        "print(ans)"
      ],
      "execution_count": 0,
      "outputs": [
        {
          "output_type": "stream",
          "text": [
            "b'HelloWorld!'\n"
          ],
          "name": "stdout"
        }
      ]
    },
    {
      "cell_type": "markdown",
      "metadata": {
        "id": "F56r8n2YdM9J",
        "colab_type": "text"
      },
      "source": [
        "If you had a look at the previous example, you may be wondering what does the 'hw' object contains.<br>\n",
        "If you think of standard python string, you might think that 'hw' contains the 'Hello World' string. Let's check!"
      ]
    },
    {
      "cell_type": "code",
      "metadata": {
        "id": "-6De0XVMw3_f",
        "colab_type": "code",
        "outputId": "f72df217-2332-41c1-b709-21db0d9fa018",
        "colab": {
          "base_uri": "https://localhost:8080/",
          "height": 34
        }
      },
      "source": [
        "# standard python strings\n",
        "h = 'Hello'\n",
        "w = 'World!'\n",
        "hw = h+w\n",
        "print(hw)"
      ],
      "execution_count": 0,
      "outputs": [
        {
          "output_type": "stream",
          "text": [
            "HelloWorld!\n"
          ],
          "name": "stdout"
        }
      ]
    },
    {
      "cell_type": "code",
      "metadata": {
        "id": "C_RoC1KMw_03",
        "colab_type": "code",
        "outputId": "56de33ee-07dd-4922-e077-d82861a0fb67",
        "colab": {
          "base_uri": "https://localhost:8080/",
          "height": 34
        }
      },
      "source": [
        "# In tensorflow\n",
        "h = tf.constant('Hello')\n",
        "w = tf.constant('World!')\n",
        "hw = h+w \n",
        "print(hw)"
      ],
      "execution_count": 0,
      "outputs": [
        {
          "output_type": "stream",
          "text": [
            "Tensor(\"add_1:0\", shape=(), dtype=string)\n"
          ],
          "name": "stdout"
        }
      ]
    },
    {
      "cell_type": "markdown",
      "metadata": {
        "id": "gdumiH5LxXQw",
        "colab_type": "text"
      },
      "source": [
        "As you can see the 'hw' is a Tensor object! We will learn later how the addition operation is actually added to a graph of computations to be done at a later stage (\"add_1:0\"). For now it is sufficient to know that the  Session object plays a role as an interface to the Tensorflow framework. The 'run' function of Session is the one that does the actual addition of the two constant strings h and w."
      ]
    },
    {
      "cell_type": "markdown",
      "metadata": {
        "id": "O0a2H5CObZ7n",
        "colab_type": "text"
      },
      "source": [
        "# A simple Neural Network Model\n",
        "---"
      ]
    },
    {
      "cell_type": "markdown",
      "metadata": {
        "id": "4wjxawTEbiUl",
        "colab_type": "text"
      },
      "source": [
        "Now that we have seen a simple 'Hello World' example, we are going to take one step further and develop a simple neural network model. We will learn our model to predict the solution of a simple straight-line equation $𝑦=𝑥−2$.<br>\n",
        "In this example, we will import tensorflow and numpy. In addition we import $keras$. $keras$ is a framework in Tensorflow. It is used to create nerual-networks as a set of Sequential layers. <br>\n",
        "\n",
        "\n",
        "```\n",
        "import tensorflow as tf\n",
        "import numpy as np\n",
        "from tensorflow import keras\n",
        "```\n",
        "In order to create a model we will use `keras.Sequential`. This function takes one parameter that defines a single layer in our network. The layer is of type $keras.layers.Dense$. $Dense$ takes $2$ parameters. The first defines the number of neurons in our layer ($units=1$), and the second parameter is called **input_shape**. We define `input_shape` as a list with a single value $1$.<br>\n",
        "\n",
        "```\n",
        "# we create a model, using Sequential object from keras framework,\n",
        "# We create one layer. This layer has 1 neuron, and its input_shape is 1 value\n",
        "model = tf.keras.Sequential([keras.layers.Dense(units=1, input_shape=[1])])\n",
        "```\n",
        "\n",
        "The created model stored in a variable called `model` needs to be compiled.\n",
        "In the compile function, we define two parameters. a loss function and an optimizer function. <br>\n",
        "As a loss function we will use the `mean_squared_error`. As for the optimizer function, we are using the `sgd`, short for `stochastic gradient descent`.<br>\n",
        "\n",
        "```\n",
        "# we compile with a loss function (mean squared error)\n",
        "# and an optimizer function (stochastic gradient descent)\n",
        "model.compile(optimizer='sgd', loss='mean_squared_error')\n",
        "```\n",
        "\n",
        "Let's provide some data to our model. We will manually solve the equation $y=x-2$ for several values of $x$.\n",
        "\n",
        "if $x = -1$ , then $ y = -1 -2 = -3$.<br>\n",
        "if $x = 0$ , then $ y = 0 - 2  = -2$.<br>\n",
        "if $x = 1$ , then $ y = 1 - 2 = -1$.<br>\n",
        "if $x = 2$ , then $ y = 2 - 2 = 0$.<br>\n",
        "if $x = 3$ , then $ y = 3 - 2 = 1$.<br>\n",
        "if $x = 4$ , then $ y = 4 - 2 = 2$.<br>\n",
        "Now we fit the values of $x$ and $y$ into float array vectors, using the numpy package:\n",
        "\n",
        "```\n",
        "xs = np.array([-1.0, 0.0, 1.0, 2.0, 3.0,4.0],    dtype = float)\n",
        "ys = np.array([-3.0, -2.0, -1.0, 0.0, 1.0, 2.0], dtype = float)\n",
        "```\n",
        "\n",
        "Now we will train our model, using 1000 epochs as a parameter to the `fit` function.\n",
        "```\n",
        "# Train the model\n",
        "model.fit(xs, ys, epochs = 1000)\n",
        "```\n",
        "\n",
        "In order to predict the value for a new unkown variable, we invoke the predict funciton.\n",
        "\n",
        "```\n",
        "# predict for a new un-trained x = 10\n",
        "model.predict([10.0])\n",
        "```\n",
        "The complete code goes here. We test our new model with a new value for x = 10. We expect to see a value very close to 8. (Y = 10 - 2 = 8)."
      ]
    },
    {
      "cell_type": "code",
      "metadata": {
        "id": "v45k5zCorJFa",
        "colab_type": "code",
        "outputId": "67a0f129-3826-4119-ac7f-39b9a95a117c",
        "colab": {
          "base_uri": "https://localhost:8080/",
          "height": 34
        }
      },
      "source": [
        "# A nerual network to learn the equation y = x - 2\n",
        "import tensorflow as tf\n",
        "import numpy as np\n",
        "# keras to create nn as a set of Sequential layers\n",
        "from tensorflow import keras\n",
        "\n",
        "# we create a model, using Sequential object from keras framework,\n",
        "# We create one layer, and that layer has 1 neuron, and its input_shape is 1 value\n",
        "model = tf.keras.Sequential([keras.layers.Dense(units=1, input_shape=[1])])\n",
        "\n",
        "# we compile with a loss function (mean squared error)\n",
        "# and an optimizer function (stochastic gradient descent)\n",
        "model.compile(optimizer='sgd', loss='mean_squared_error')\n",
        "\n",
        "# providing the data\n",
        "xs = np.array([-1.0, 0.0, 1.0, 2.0, 3.0,4.0], dtype = float)\n",
        "ys = np.array([-3.0, -2.0, -1.0, 0.0, 1.0, 2.0], dtype = float)\n",
        "\n",
        "# Train the model\n",
        "model.fit(xs, ys, epochs = 1000, verbose = 0)\n",
        "\n",
        "# predict for a new unknown x\n",
        "x = 10\n",
        "print('For X = ' , x , ', Y = ', *model.predict([x])[0])"
      ],
      "execution_count": 0,
      "outputs": [
        {
          "output_type": "stream",
          "text": [
            "For X =  10 , Y =  7.9998646\n"
          ],
          "name": "stdout"
        }
      ]
    },
    {
      "cell_type": "markdown",
      "metadata": {
        "id": "B_6p4kWwx-uv",
        "colab_type": "text"
      },
      "source": [
        "# Conclusion\n",
        "In this article we learned about the importance of Machine Learning and Deep Learning. We presented one of the top Frameworks for machine learning, i.e. Google's Tensorflow introduced since 2014. <br>\n",
        "We learned how to install Tensorflow, and saw a traditional 'Hello World!' application. In addition, we developed our first simple neural network with one layer and one neuron.<br>\n",
        "In the following articles we will discuss the computation graph model of Tensorflow. We will see how the addition operation of 'h' and 'w' is actually added to a graph of computations. In addition we will see more simple models and learn more about the basics of Tensorflow."
      ]
    }
  ]
}